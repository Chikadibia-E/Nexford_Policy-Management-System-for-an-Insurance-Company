{
 "cells": [
  {
   "cell_type": "code",
   "execution_count": 1,
   "id": "81004df2-4091-4939-80ff-1d20d59773f7",
   "metadata": {},
   "outputs": [],
   "source": [
    "# Importing required modues:\n",
    "\n",
    "from datetime import datetime, timedelta\n",
    "\n",
    "#Creating payments class:\n",
    "\n",
    "class Payment:\n",
    "    def __init__(self, payment_id, policyholder_id, amount, date, status='pending'):\n",
    "        self.payment_id = payment_id\n",
    "        self.policyholder_id = policyholder_id\n",
    "        self.amount = amount\n",
    "        self.date = datetime.strptime(date, '%Y-%m-%d')\n",
    "        self.status = status\n",
    "\n",
    "# First-time insurance policy purchase:\n",
    "    \n",
    "    def process_payment(self):\n",
    "        try:\n",
    "            if self.status == 'pending':\n",
    "                self.status = 'completed'\n",
    "                print(f\"Payment {self.payment_id} processed successfully.\")\n",
    "            else:\n",
    "                print(f\"Payment {self.payment_id} has already been processed.\")\n",
    "        except Exception as e:\n",
    "            print(f\"An error occurred while processing payment {self.payment_id}: {e}\")\n",
    "\n",
    "# Policy renewal reminder 25days after policy date:\n",
    "    \n",
    "    def send_reminder(self):\n",
    "        try:\n",
    "            reminder_date = self.date + timedelta(days=25)\n",
    "            if datetime.now() >= reminder_date:\n",
    "                print(f\"Reminder sent for payment {self.payment_id}.\")\n",
    "            else:\n",
    "                print(f\"Reminder for payment {self.payment_id} will be sent on {reminder_date.strftime('%Y-%m-%d')}.\")\n",
    "        except Exception as e:\n",
    "            print(f\"An error occurred while sending reminder for payment {self.payment_id}: {e}\")\n",
    "\n",
    " # Process and apply a penalty of 5% if payment is past due by 7 days:\n",
    "    \n",
    "    def apply_penalty(self):\n",
    "        try:\n",
    "            due_date = self.date + timedelta(days=7)\n",
    "            if datetime.now() > due_date and self.status == 'pending':\n",
    "                penalty_amount = self.amount * 0.05\n",
    "                self.amount += penalty_amount\n",
    "                print(f\"Penalty applied to payment {self.payment_id}. New amount: {self.amount}\")\n",
    "            else:\n",
    "                print(f\"No penalty applied to payment {self.payment_id}.\")\n",
    "        except Exception as e:\n",
    "            print(f\"An error occurred while applying penalty to payment {self.payment_id}: {e}\")\n"
   ]
  },
  {
   "cell_type": "code",
   "execution_count": null,
   "id": "b1691c22-772d-4089-8ada-4798d309f9d4",
   "metadata": {},
   "outputs": [],
   "source": []
  }
 ],
 "metadata": {
  "kernelspec": {
   "display_name": "Python 3 (ipykernel)",
   "language": "python",
   "name": "python3"
  },
  "language_info": {
   "codemirror_mode": {
    "name": "ipython",
    "version": 3
   },
   "file_extension": ".py",
   "mimetype": "text/x-python",
   "name": "python",
   "nbconvert_exporter": "python",
   "pygments_lexer": "ipython3",
   "version": "3.12.7"
  }
 },
 "nbformat": 4,
 "nbformat_minor": 5
}
