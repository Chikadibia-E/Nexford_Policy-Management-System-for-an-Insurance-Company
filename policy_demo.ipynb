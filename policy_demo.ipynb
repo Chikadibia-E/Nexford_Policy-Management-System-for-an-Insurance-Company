{
 "cells": [
  {
   "cell_type": "code",
   "execution_count": 13,
   "id": "125a694c-4f6a-431b-bcf2-8ca06bef76c7",
   "metadata": {},
   "outputs": [],
   "source": [
    "# Importing classes as modules exported as executable Python files:\n",
    "from policyholder import Policyholder\n",
    "from product import Product, ProductManager\n",
    "from payment import Payment"
   ]
  },
  {
   "cell_type": "code",
   "execution_count": 16,
   "id": "c2ead99a-0aae-445e-9876-3015d8f46b17",
   "metadata": {},
   "outputs": [
    {
     "name": "stdin",
     "output_type": "stream",
     "text": [
      "Enter product ID:  1\n",
      "Enter product name:  gf\n",
      "Enter product price:  2\n"
     ]
    },
    {
     "name": "stdout",
     "output_type": "stream",
     "text": [
      "Product 1 created.\n"
     ]
    },
    {
     "name": "stdin",
     "output_type": "stream",
     "text": [
      "Enter product ID:  2\n",
      "Enter product name:  sap\n",
      "Enter product price:  65\n"
     ]
    },
    {
     "name": "stdout",
     "output_type": "stream",
     "text": [
      "Product 2 created.\n"
     ]
    },
    {
     "name": "stdin",
     "output_type": "stream",
     "text": [
      "Do you want to update a product? (yes/no):  no\n",
      "Do you want to remove a product? (yes/no):  no\n"
     ]
    }
   ],
   "source": [
    "# Function to get valid input\n",
    "def get_valid_input(prompt, input_type):\n",
    "    while True:\n",
    "        try:\n",
    "            return input_type(input(prompt))\n",
    "        except ValueError:\n",
    "            print(f\"Invalid input. Please enter a valid {input_type.__name__}.\")\n",
    "\n",
    "# Demo with user input\n",
    "def demo():\n",
    "    manager = ProductManager()\n",
    "\n",
    "    # Creating products with user input\n",
    "    for _ in range(2):\n",
    "        product_id = get_valid_input(\"Enter product ID: \", int)\n",
    "        name = input(\"Enter product name: \")\n",
    "        price = get_valid_input(\"Enter product price: \", float)\n",
    "        manager.create_product(product_id, name, price)\n",
    "\n",
    "    # Optionally update a product\n",
    "    update_choice = input(\"Do you want to update a product? (yes/no): \").strip().lower()\n",
    "    if update_choice == 'yes':\n",
    "        product_id = get_valid_input(\"Enter product ID to update: \", int)\n",
    "        name = input(\"Enter new product name (leave blank to keep current): \")\n",
    "        price = input(\"Enter new product price (leave blank to keep current): \")\n",
    "        price = float(price) if price else None\n",
    "        manager.update_product(product_id, name=name if name else None, price=price)\n",
    "\n",
    "    # Optionally remove a product\n",
    "    remove_choice = input(\"Do you want to remove a product? (yes/no): \").strip().lower()\n",
    "    if remove_choice == 'yes':\n",
    "        product_id = get_valid_input(\"Enter product ID to remove: \", int)\n",
    "        manager.remove_product(product_id)\n",
    "\n",
    "if __name__ == \"__main__\":\n",
    "    demo()\n"
   ]
  },
  {
   "cell_type": "code",
   "execution_count": 20,
   "id": "a1814af3-62da-4bb5-8ef5-03254abbd8d2",
   "metadata": {},
   "outputs": [
    {
     "name": "stdin",
     "output_type": "stream",
     "text": [
      "Enter Policyholder ID:  1\n",
      "Enter Policyholder Name:  John\n",
      "Enter Registration Date (YYYY-MM-DD):  2022-12-23\n",
      "Enter Policy Type:  Dab\n",
      "Enter Policyholder ID:  2\n",
      "Enter Policyholder Name:  Seeker\n",
      "Enter Registration Date (YYYY-MM-DD):  2023-05-15\n",
      "Enter Policy Type:  kyve\n",
      "Enter Policyholder ID:  3\n",
      "Enter Policyholder Name:  Slam\n",
      "Enter Registration Date (YYYY-MM-DD):  2021-10-25\n",
      "Enter Policy Type:  hugo\n",
      "Enter Policyholder ID:  4\n",
      "Enter Policyholder Name:  Ken\n",
      "Enter Registration Date (YYYY-MM-DD):  2024-11-21\n",
      "Enter Policy Type:  Home\n",
      "Enter Policyholder ID:  5\n",
      "Enter Policyholder Name:  Rea\n",
      "Enter Registration Date (YYYY-MM-DD):  2024-02-17\n",
      "Enter Policy Type:  Ukwu\n"
     ]
    },
    {
     "name": "stdout",
     "output_type": "stream",
     "text": [
      "\n",
      "Options:\n",
      "1. Register Policyholder\n",
      "2. Suspend Policyholder\n",
      "3. Reactivate Policyholder\n",
      "4. Update Policyholder\n",
      "5. Print Policyholders\n",
      "6. Exit\n"
     ]
    },
    {
     "name": "stdin",
     "output_type": "stream",
     "text": [
      "Choose an option:  5\n"
     ]
    },
    {
     "name": "stdout",
     "output_type": "stream",
     "text": [
      "ID: 1, Name: John, Status: active, Date: 2022-12-23 00:00:00, Policy Type: Dab\n",
      "ID: 2, Name: Seeker, Status: active, Date: 2023-05-15 00:00:00, Policy Type: kyve\n",
      "ID: 3, Name: Slam, Status: active, Date: 2021-10-25 00:00:00, Policy Type: hugo\n",
      "ID: 4, Name: Ken, Status: active, Date: 2024-11-21 00:00:00, Policy Type: Home\n",
      "ID: 5, Name: Rea, Status: active, Date: 2024-02-17 00:00:00, Policy Type: Ukwu\n",
      "\n",
      "Options:\n",
      "1. Register Policyholder\n",
      "2. Suspend Policyholder\n",
      "3. Reactivate Policyholder\n",
      "4. Update Policyholder\n",
      "5. Print Policyholders\n",
      "6. Exit\n"
     ]
    },
    {
     "name": "stdin",
     "output_type": "stream",
     "text": [
      "Choose an option:  6\n"
     ]
    }
   ],
   "source": [
    "def input_policyholder():\n",
    "    while True:\n",
    "        try:\n",
    "            policyholder_id = int(input(\"Enter Policyholder ID: \"))\n",
    "            name = input(\"Enter Policyholder Name: \")\n",
    "            date = datetime.strptime(input(\"Enter Registration Date (YYYY-MM-DD): \"), \"%Y-%m-%d\")\n",
    "            policy_type = input(\"Enter Policy Type: \")\n",
    "            return Policyholder(policyholder_id, name, date, policy_type)\n",
    "        except ValueError as e:\n",
    "            print(f\"Invalid input: {e}. Please try again.\")\n",
    "\n",
    "def main():\n",
    "    policyholders = []\n",
    "    for _ in range(5):\n",
    "        policyholder = input_policyholder()\n",
    "        policyholders.append(policyholder)\n",
    "\n",
    "    while True:\n",
    "        print(\"\\nOptions:\")\n",
    "        print(\"1. Register Policyholder\")\n",
    "        print(\"2. Suspend Policyholder\")\n",
    "        print(\"3. Reactivate Policyholder\")\n",
    "        print(\"4. Update Policyholder\")\n",
    "        print(\"5. Print Policyholders\")\n",
    "        print(\"6. Exit\")\n",
    "        choice = input(\"Choose an option: \")\n",
    "\n",
    "        if choice == '1':\n",
    "            policyholder_id = int(input(\"Enter Policyholder ID to register: \"))\n",
    "            for ph in policyholders:\n",
    "                if ph.policyholder_id == policyholder_id:\n",
    "                    ph.register()\n",
    "                    break\n",
    "            else:\n",
    "                print(\"Policyholder not found.\")\n",
    "        elif choice == '2':\n",
    "            policyholder_id = int(input(\"Enter Policyholder ID to suspend: \"))\n",
    "            for ph in policyholders:\n",
    "                if ph.policyholder_id == policyholder_id:\n",
    "                    ph.suspend()\n",
    "                    break\n",
    "            else:\n",
    "                print(\"Policyholder not found.\")\n",
    "        elif choice == '3':\n",
    "            policyholder_id = int(input(\"Enter Policyholder ID to reactivate: \"))\n",
    "            for ph in policyholders:\n",
    "                if ph.policyholder_id == policyholder_id:\n",
    "                    ph.reactivate()\n",
    "                    break\n",
    "            else:\n",
    "                print(\"Policyholder not found.\")\n",
    "        elif choice == '4':\n",
    "            policyholder_id = int(input(\"Enter Policyholder ID to update: \"))\n",
    "            for ph in policyholders:\n",
    "                if ph.policyholder_id == policyholder_id:\n",
    "                    name = input(\"Enter new name (leave blank to keep current): \")\n",
    "                    date_input = input(\"Enter new date (YYYY-MM-DD, leave blank to keep current): \")\n",
    "                    date = datetime.strptime(date_input, \"%Y-%m-%d\") if date_input else None\n",
    "                    policy_type = input(\"Enter new policy type (leave blank to keep current): \")\n",
    "                    ph.update(name=name if name else None, date=date, policy_type=policy_type if policy_type else None)\n",
    "                    break\n",
    "            else:\n",
    "                print(\"Policyholder not found.\")\n",
    "        elif choice == '5':\n",
    "            for ph in policyholders:\n",
    "                print(f\"ID: {ph.policyholder_id}, Name: {ph.name}, Status: {ph.status}, Date: {ph.date}, Policy Type: {ph.policy_type}\")\n",
    "        elif choice == '6':\n",
    "            break\n",
    "        else:\n",
    "            print(\"Invalid choice. Please try again.\")\n",
    "\n",
    "if __name__ == \"__main__\":\n",
    "    main()\n"
   ]
  },
  {
   "cell_type": "code",
   "execution_count": 21,
   "id": "a1d20524-1133-4d84-b65a-c69201cc0922",
   "metadata": {},
   "outputs": [
    {
     "name": "stdin",
     "output_type": "stream",
     "text": [
      "Enter payment ID for payment 1:  1\n",
      "Enter policyholder ID for payment 1:  1\n",
      "Enter amount for payment 1:  200\n",
      "Enter date (YYYY-MM-DD) for payment 1:  2024-10-12\n",
      "Enter payment ID for payment 2:  2\n",
      "Enter policyholder ID for payment 2:  2\n",
      "Enter amount for payment 2:  500\n",
      "Enter date (YYYY-MM-DD) for payment 2:  2024-11-21\n",
      "Enter payment ID for payment 3:  3\n",
      "Enter policyholder ID for payment 3:  3\n",
      "Enter amount for payment 3:  600\n",
      "Enter date (YYYY-MM-DD) for payment 3:  2023-06-11\n",
      "Enter payment ID for payment 4:  4\n",
      "Enter policyholder ID for payment 4:  4\n",
      "Enter amount for payment 4:  300\n",
      "Enter date (YYYY-MM-DD) for payment 4:  2024-05-11\n",
      "Enter payment ID for payment 5:  5\n",
      "Enter policyholder ID for payment 5:  5\n",
      "Enter amount for payment 5:  92\n",
      "Enter date (YYYY-MM-DD) for payment 5:  2024-11-19\n"
     ]
    },
    {
     "name": "stdout",
     "output_type": "stream",
     "text": [
      "Payment 1 processed successfully.\n",
      "Reminder sent for payment 1.\n",
      "No penalty applied to payment 1.\n",
      "Payment 2 processed successfully.\n",
      "Reminder for payment 2 will be sent on 2024-12-16.\n",
      "No penalty applied to payment 2.\n",
      "Payment 3 processed successfully.\n",
      "Reminder sent for payment 3.\n",
      "No penalty applied to payment 3.\n",
      "Payment 4 processed successfully.\n",
      "Reminder sent for payment 4.\n",
      "No penalty applied to payment 4.\n",
      "Payment 5 processed successfully.\n",
      "Reminder for payment 5 will be sent on 2024-12-14.\n",
      "No penalty applied to payment 5.\n"
     ]
    }
   ],
   "source": [
    "# Function to create payments based on user input\n",
    "def create_payments():\n",
    "    payments = []\n",
    "    for i in range(5):\n",
    "        payment_id = input(f\"Enter payment ID for payment {i+1}: \")\n",
    "        policyholder_id = input(f\"Enter policyholder ID for payment {i+1}: \")\n",
    "        amount = float(input(f\"Enter amount for payment {i+1}: \"))\n",
    "        date = input(f\"Enter date (YYYY-MM-DD) for payment {i+1}: \")\n",
    "        payment = Payment(payment_id, policyholder_id, amount, date)\n",
    "        payments.append(payment)\n",
    "    return payments\n",
    "\n",
    "# Function to demonstrate the use case\n",
    "def demo():\n",
    "    payments = create_payments()\n",
    "    for payment in payments:\n",
    "        payment.process_payment()\n",
    "        payment.send_reminder()\n",
    "        payment.apply_penalty()\n",
    "\n",
    "# Run the demo\n",
    "demo()\n"
   ]
  },
  {
   "cell_type": "code",
   "execution_count": null,
   "id": "57d2ccbb-9343-45b3-aee4-f6336c87bd1b",
   "metadata": {},
   "outputs": [],
   "source": []
  }
 ],
 "metadata": {
  "kernelspec": {
   "display_name": "Python 3 (ipykernel)",
   "language": "python",
   "name": "python3"
  },
  "language_info": {
   "codemirror_mode": {
    "name": "ipython",
    "version": 3
   },
   "file_extension": ".py",
   "mimetype": "text/x-python",
   "name": "python",
   "nbconvert_exporter": "python",
   "pygments_lexer": "ipython3",
   "version": "3.12.7"
  }
 },
 "nbformat": 4,
 "nbformat_minor": 5
}
